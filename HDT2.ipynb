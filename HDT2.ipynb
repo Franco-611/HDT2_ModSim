{
 "cells": [
  {
   "cell_type": "markdown",
   "metadata": {},
   "source": [
    "# Hoja de trabajo 2\n",
    "### Diego Franco 20240"
   ]
  },
  {
   "cell_type": "markdown",
   "metadata": {},
   "source": [
    "## Ejercicio 1 - Preguntas Teóricas"
   ]
  },
  {
   "cell_type": "markdown",
   "metadata": {},
   "source": [
    "## 1.1\n",
    "\n",
    "### ¿Cómo definiría “Programación Lineal”?\n",
    "Es un método matemático y técnica de optimización utilizada para resolver problemas en los que se busca maximizar o minimizar una función lineal sujeta a un conjunto de restricciones también lineales.\n",
    "\n",
    "### ¿Cuáles son los escenarios típicos y los problemas del mundo real que se pueden modelar mediante la programación lineal?\n",
    "Entre los escenarios típicos se encuentran:\n",
    "- La maximización de beneficios o minimización de costes en una empresa.\n",
    "- La minimización de pérdidas en una empresa.\n",
    "- La minimización de costes en una empresa.\n",
    "- Asignación de recursos escasos.\n",
    "- Optimización de rutas y transporte.\n",
    "\n",
    "Entre otros.\n",
    "\n",
    "\n",
    "### ¿Cómo contribuye la programación lineal a la toma de decisiones en diversas industrias, como la fabricación, el transporte, las finanzas y la asignación de recursos?\n",
    "\n",
    "La programación lineal contribuye a la toma de decisiones con un enfoque cuantitativo y un enfoque de eficiencia. Con un enfoque cuantitativo, la programación lineal ayuda a los gerentes a tomar decisiones basadas en datos y hechos. Con un enfoque de eficiencia, la programación lineal ayuda a los gerentes a tomar decisiones que maximicen los beneficios o minimicen los costos.\n",
    "\n",
    "\n"
   ]
  },
  {
   "cell_type": "markdown",
   "metadata": {},
   "source": [
    "## 1.2 \n",
    "\n",
    "### ¿Cómo definiría los componentes clave de un problema de programación lineal: función objetivo, variables de decisión y restricciones?\n",
    "- Funcion Objetivo:\n",
    "Es una expresión matemática lineal que representa el objetivo que se busca maximizar o minimizar en el problema.\n",
    "\n",
    "- Variables de decisión:\n",
    "Son las incógnitas que representan las cantidades que el problema busca determinar.\n",
    "\n",
    "- Restricciones:\n",
    "Son condiciones que limitan las opciones disponibles para las variables de decisión.\n",
    "\n",
    "\n",
    "### ¿Cómo se formula matemáticamente un problema de programación lineal?\n",
    "\n",
    "Para formular un problema de programación lineal, se debe seguir los siguientes pasos:\n",
    "- Definir las variables de decisión: Identifica las cantidades que deseas determinar en el problema y asigna una variable a cada una de ellas.\n",
    "\n",
    "- Escribir la función objetivo: Establece el objetivo que deseas maximizar o minimizar.\n",
    "\n",
    "- Escribir las restricciones: Define las restricciones que limitan las opciones disponibles para las variables de decisión.\n",
    "\n",
    "- Establecer las limitaciones de las variables de decisión: Especifica cualquier restricción adicional sobre las variables de decisión, como limitaciones mínimas o máximas. \n",
    "\n",
    "Y ya se deberia de juntar todo en una sola ecuación.\n",
    "\n",
    "\n",
    "### ¿Cuál es la interpretación geométrica de un problema de programación lineal en dos dimensiones?\n",
    "La interpretación geométrica se realiza trazando las rectas que representan las restricciones y la función objetivo en el plano cartesiano. Cada restricción define una región factible en el plano en la que las soluciones son posibles y cumplen con las restricciones. \n",
    "\n",
    "La región donde todas las restricciones se superponen es la región factible que contiene las soluciones óptimas. Esto se llama \"conjunto factible\".\n",
    "\n",
    "\n",
    "### ¿Cómo se relacionan las regiones factibles, las soluciones óptimas y los puntos de esquina en la programación lineal?\n",
    "Las soluciones óptimas son los puntos de esquina de la región factible. Esto significa que la solución óptima se encuentra en uno de los vértices de la región factible.\n",
    "Además de ello podemos encontrar realcion en los siguientes puntos:\n",
    "La región factible es el conjunto de todas las combinaciones posibles de las variables de decisión que cumplen con todas las restricciones del problema.\n",
    "Los puntos de esquina, también conocidos como vértices o soluciones básicas factibles, son los puntos de intersección de las restricciones que definen la región factible.\n",
    "Las soluciones óptimas son aquellas que maximizan o minimizan la función objetivo dentro de la región factible\n",
    "\n",
    "\n",
    "\n",
    "### ¿Qué es el método gráfico y cuándo es adecuado para resolver problemas de programación lineal?\n",
    "El método gráfico es un método de solución de problemas de programación lineal que utiliza una representación visual de la región factible para determinar la solución óptima. Este método es adecuado para problemas de programación lineal que tienen dos variables de decisión y que pueden representarse en un plano cartesiano.\n"
   ]
  }
 ],
 "metadata": {
  "language_info": {
   "name": "python"
  },
  "orig_nbformat": 4
 },
 "nbformat": 4,
 "nbformat_minor": 2
}
